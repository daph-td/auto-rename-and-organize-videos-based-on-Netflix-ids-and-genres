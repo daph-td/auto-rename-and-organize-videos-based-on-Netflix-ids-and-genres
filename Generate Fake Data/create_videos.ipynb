{
 "metadata": {
  "language_info": {
   "codemirror_mode": {
    "name": "ipython",
    "version": 3
   },
   "file_extension": ".py",
   "mimetype": "text/x-python",
   "name": "python",
   "nbconvert_exporter": "python",
   "pygments_lexer": "ipython3",
   "version": "3.7.6-final"
  },
  "orig_nbformat": 2,
  "kernelspec": {
   "name": "python3",
   "display_name": "Python 3"
  }
 },
 "nbformat": 4,
 "nbformat_minor": 2,
 "cells": [
  {
   "cell_type": "code",
   "execution_count": 1,
   "metadata": {},
   "outputs": [
    {
     "output_type": "stream",
     "name": "stdout",
     "text": [
      "imported\n"
     ]
    }
   ],
   "source": [
    "# google sheets imports\n",
    "import gspread\n",
    "import time\n",
    "import os\n",
    "from oauth2client.service_account import ServiceAccountCredentials\n",
    "\n",
    "print('imported') "
   ]
  },
  {
   "cell_type": "code",
   "execution_count": 2,
   "metadata": {},
   "outputs": [
    {
     "output_type": "stream",
     "name": "stdout",
     "text": [
      "['video_id', '4223', '3214', '1738', '1748', '1441', '2449', '43040', '1568', '2116', '3392', '2247', '2797', '43048', '11881', '7442', '3761', '2571', '4906', '4062', '3053', '177', '1', '3959']\n"
     ]
    }
   ],
   "source": [
    "# define range\n",
    "FROM = 1 # row -1\n",
    "TO = 24 # exact row\n",
    "\n",
    "# fetch data from google sheets\n",
    "scope = ['https://spreadsheets.google.com/feeds']\n",
    "creds = ServiceAccountCredentials.from_json_keyfile_name('gspread_credential.json',scope)\n",
    "gc = gspread.authorize(creds)\n",
    "sh = gc.open_by_key(\"1qNQRpybudfG05CAM-hr97m3K9v72-Txu2RBuDrQA3l8\")\n",
    "outreachList = sh.get_worksheet(0)\n",
    "video_name = outreachList.col_values(2) # col A = 1, col B = 2, col C = 3 ...\n",
    "# user_link = outreachList.col_values(3) \n",
    "\n",
    "print(video_name)"
   ]
  },
  {
   "cell_type": "code",
   "execution_count": 3,
   "metadata": {},
   "outputs": [
    {
     "output_type": "stream",
     "name": "stdout",
     "text": [
      "List of directories and files before creation:\n['.DS_Store']\n\n"
     ]
    }
   ],
   "source": [
    "# path of the current script \n",
    "path = '/Users/admin/Desktop/Python_MacPro/organize_netflix/netflix_videos/test/'\n",
    "\n",
    "# Before creating \n",
    "dir_list = os.listdir(path)  \n",
    "print(\"List of directories and files before creation:\") \n",
    "print(dir_list) \n",
    "print()"
   ]
  },
  {
   "cell_type": "code",
   "execution_count": 4,
   "metadata": {},
   "outputs": [
    {
     "output_type": "stream",
     "name": "stdout",
     "text": [
      "List of directories and files after creation:\n['3214.mp4', '1748.mp4', '4223.mp4', '1.mp4', '.DS_Store', '2247.mp4', '3761.mp4', '43048.mp4', '1738.mp4', '4906.mp4', '2797.mp4', '11881.mp4', '1441.mp4', '2571.mp4', '43040.mp4', '4062.mp4', '3053.mp4', '2116.mp4', '7442.mp4', '177.mp4', '1568.mp4', '2449.mp4', 'video_id.mp4', '3959.mp4', '3392.mp4']\n"
     ]
    }
   ],
   "source": [
    "# Creates a new file \n",
    "for f in video_name:\n",
    "    name = f\"{f}.mp4\" \n",
    "    with open(os.path.join(path, name), 'w') as video:\n",
    "        pass\n",
    "        # To write data to new file uncomment \n",
    "        # this fp.write(\"New file created\") \n",
    "\n",
    "# After creating  \n",
    "dir_list = os.listdir(path) \n",
    "print(\"List of directories and files after creation:\") \n",
    "print(dir_list) "
   ]
  },
  {
   "cell_type": "code",
   "execution_count": null,
   "metadata": {},
   "outputs": [],
   "source": []
  }
 ]
}